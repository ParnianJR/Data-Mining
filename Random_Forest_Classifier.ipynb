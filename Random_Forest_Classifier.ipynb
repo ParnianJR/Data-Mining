{
  "nbformat": 4,
  "nbformat_minor": 0,
  "metadata": {
    "colab": {
      "provenance": []
    },
    "kernelspec": {
      "name": "python3",
      "display_name": "Python 3"
    },
    "language_info": {
      "name": "python"
    }
  },
  "cells": [
    {
      "cell_type": "markdown",
      "source": [
        "**intro to data**  \n",
        "This famous `iris dataset`  gives the measurements in centimeters of the variables sepal length and width and petal length and width, respectively, for 150 flowers from each of 3 species of iris. The species are Iris `setosa`, `versicolor`, and `virginica`.  \n",
        "iris is a data frame with 150 cases (rows) and 5 variables (columns) named :\n",
        "- `Sepal_Length`  \n",
        "- `Sepal_Width`  \n",
        "- `Petal_Length`  \n",
        "- `Petal_Width`  \n",
        "- `Species`    \n",
        "  \n",
        "An important part of supervised machine learning is `Classification`:finding out that what class\n",
        "an observation belongs to.`Random forest classifier` is one of the most efficient algorithms in \n",
        "classification."
      ],
      "metadata": {
        "id": "b4cMEiJEToXb"
      }
    },
    {
      "cell_type": "code",
      "execution_count": 48,
      "metadata": {
        "colab": {
          "base_uri": "https://localhost:8080/",
          "height": 206
        },
        "id": "hba3-3yoSgAG",
        "outputId": "fdf00511-a583-4519-bdb7-b37caec00d62"
      },
      "outputs": [
        {
          "output_type": "execute_result",
          "data": {
            "text/plain": [
              "   sepal_length  sepal_width  petal_length  petal_width species\n",
              "0           5.1          3.5           1.4          0.2  setosa\n",
              "1           4.9          3.0           1.4          0.2  setosa\n",
              "2           4.7          3.2           1.3          0.2  setosa\n",
              "3           4.6          3.1           1.5          0.2  setosa\n",
              "4           5.0          3.6           1.4          0.2  setosa"
            ],
            "text/html": [
              "\n",
              "  <div id=\"df-8eb7290b-a74c-4822-b868-a24a98826a76\">\n",
              "    <div class=\"colab-df-container\">\n",
              "      <div>\n",
              "<style scoped>\n",
              "    .dataframe tbody tr th:only-of-type {\n",
              "        vertical-align: middle;\n",
              "    }\n",
              "\n",
              "    .dataframe tbody tr th {\n",
              "        vertical-align: top;\n",
              "    }\n",
              "\n",
              "    .dataframe thead th {\n",
              "        text-align: right;\n",
              "    }\n",
              "</style>\n",
              "<table border=\"1\" class=\"dataframe\">\n",
              "  <thead>\n",
              "    <tr style=\"text-align: right;\">\n",
              "      <th></th>\n",
              "      <th>sepal_length</th>\n",
              "      <th>sepal_width</th>\n",
              "      <th>petal_length</th>\n",
              "      <th>petal_width</th>\n",
              "      <th>species</th>\n",
              "    </tr>\n",
              "  </thead>\n",
              "  <tbody>\n",
              "    <tr>\n",
              "      <th>0</th>\n",
              "      <td>5.1</td>\n",
              "      <td>3.5</td>\n",
              "      <td>1.4</td>\n",
              "      <td>0.2</td>\n",
              "      <td>setosa</td>\n",
              "    </tr>\n",
              "    <tr>\n",
              "      <th>1</th>\n",
              "      <td>4.9</td>\n",
              "      <td>3.0</td>\n",
              "      <td>1.4</td>\n",
              "      <td>0.2</td>\n",
              "      <td>setosa</td>\n",
              "    </tr>\n",
              "    <tr>\n",
              "      <th>2</th>\n",
              "      <td>4.7</td>\n",
              "      <td>3.2</td>\n",
              "      <td>1.3</td>\n",
              "      <td>0.2</td>\n",
              "      <td>setosa</td>\n",
              "    </tr>\n",
              "    <tr>\n",
              "      <th>3</th>\n",
              "      <td>4.6</td>\n",
              "      <td>3.1</td>\n",
              "      <td>1.5</td>\n",
              "      <td>0.2</td>\n",
              "      <td>setosa</td>\n",
              "    </tr>\n",
              "    <tr>\n",
              "      <th>4</th>\n",
              "      <td>5.0</td>\n",
              "      <td>3.6</td>\n",
              "      <td>1.4</td>\n",
              "      <td>0.2</td>\n",
              "      <td>setosa</td>\n",
              "    </tr>\n",
              "  </tbody>\n",
              "</table>\n",
              "</div>\n",
              "      <button class=\"colab-df-convert\" onclick=\"convertToInteractive('df-8eb7290b-a74c-4822-b868-a24a98826a76')\"\n",
              "              title=\"Convert this dataframe to an interactive table.\"\n",
              "              style=\"display:none;\">\n",
              "        \n",
              "  <svg xmlns=\"http://www.w3.org/2000/svg\" height=\"24px\"viewBox=\"0 0 24 24\"\n",
              "       width=\"24px\">\n",
              "    <path d=\"M0 0h24v24H0V0z\" fill=\"none\"/>\n",
              "    <path d=\"M18.56 5.44l.94 2.06.94-2.06 2.06-.94-2.06-.94-.94-2.06-.94 2.06-2.06.94zm-11 1L8.5 8.5l.94-2.06 2.06-.94-2.06-.94L8.5 2.5l-.94 2.06-2.06.94zm10 10l.94 2.06.94-2.06 2.06-.94-2.06-.94-.94-2.06-.94 2.06-2.06.94z\"/><path d=\"M17.41 7.96l-1.37-1.37c-.4-.4-.92-.59-1.43-.59-.52 0-1.04.2-1.43.59L10.3 9.45l-7.72 7.72c-.78.78-.78 2.05 0 2.83L4 21.41c.39.39.9.59 1.41.59.51 0 1.02-.2 1.41-.59l7.78-7.78 2.81-2.81c.8-.78.8-2.07 0-2.86zM5.41 20L4 18.59l7.72-7.72 1.47 1.35L5.41 20z\"/>\n",
              "  </svg>\n",
              "      </button>\n",
              "      \n",
              "  <style>\n",
              "    .colab-df-container {\n",
              "      display:flex;\n",
              "      flex-wrap:wrap;\n",
              "      gap: 12px;\n",
              "    }\n",
              "\n",
              "    .colab-df-convert {\n",
              "      background-color: #E8F0FE;\n",
              "      border: none;\n",
              "      border-radius: 50%;\n",
              "      cursor: pointer;\n",
              "      display: none;\n",
              "      fill: #1967D2;\n",
              "      height: 32px;\n",
              "      padding: 0 0 0 0;\n",
              "      width: 32px;\n",
              "    }\n",
              "\n",
              "    .colab-df-convert:hover {\n",
              "      background-color: #E2EBFA;\n",
              "      box-shadow: 0px 1px 2px rgba(60, 64, 67, 0.3), 0px 1px 3px 1px rgba(60, 64, 67, 0.15);\n",
              "      fill: #174EA6;\n",
              "    }\n",
              "\n",
              "    [theme=dark] .colab-df-convert {\n",
              "      background-color: #3B4455;\n",
              "      fill: #D2E3FC;\n",
              "    }\n",
              "\n",
              "    [theme=dark] .colab-df-convert:hover {\n",
              "      background-color: #434B5C;\n",
              "      box-shadow: 0px 1px 3px 1px rgba(0, 0, 0, 0.15);\n",
              "      filter: drop-shadow(0px 1px 2px rgba(0, 0, 0, 0.3));\n",
              "      fill: #FFFFFF;\n",
              "    }\n",
              "  </style>\n",
              "\n",
              "      <script>\n",
              "        const buttonEl =\n",
              "          document.querySelector('#df-8eb7290b-a74c-4822-b868-a24a98826a76 button.colab-df-convert');\n",
              "        buttonEl.style.display =\n",
              "          google.colab.kernel.accessAllowed ? 'block' : 'none';\n",
              "\n",
              "        async function convertToInteractive(key) {\n",
              "          const element = document.querySelector('#df-8eb7290b-a74c-4822-b868-a24a98826a76');\n",
              "          const dataTable =\n",
              "            await google.colab.kernel.invokeFunction('convertToInteractive',\n",
              "                                                     [key], {});\n",
              "          if (!dataTable) return;\n",
              "\n",
              "          const docLinkHtml = 'Like what you see? Visit the ' +\n",
              "            '<a target=\"_blank\" href=https://colab.research.google.com/notebooks/data_table.ipynb>data table notebook</a>'\n",
              "            + ' to learn more about interactive tables.';\n",
              "          element.innerHTML = '';\n",
              "          dataTable['output_type'] = 'display_data';\n",
              "          await google.colab.output.renderOutput(dataTable, element);\n",
              "          const docLink = document.createElement('div');\n",
              "          docLink.innerHTML = docLinkHtml;\n",
              "          element.appendChild(docLink);\n",
              "        }\n",
              "      </script>\n",
              "    </div>\n",
              "  </div>\n",
              "  "
            ]
          },
          "metadata": {},
          "execution_count": 48
        }
      ],
      "source": [
        "import seaborn as sns\n",
        "import matplotlib.pyplot as plt\n",
        "import pandas as pd\n",
        "\n",
        "data_iris = sns.load_dataset(\"iris\")\n",
        "data_iris.head(5)"
      ]
    },
    {
      "cell_type": "markdown",
      "source": [
        "**decision tree classifier**  \n",
        "A decision tree is the building block of a random forest model.In other words , a random forest\n",
        "builds many trees and predicts by using means of decision trees predictions.  \n",
        "  \n",
        "  We can consider decision tree as a binary tree that splits dataset into different categories\n",
        "  in case of a classification problem.  \n",
        "  A decision tree has 2 types of nodes:  \n",
        "  - **decision nodes**: contains a yes/no question to split data.  \n",
        "  - **leaf nodes**: contains the predicted class of the data.  \n",
        "We can implement decision tree (and random forest) using `Scikit_Learn` library in python. "
      ],
      "metadata": {
        "id": "DiimSacrUhBL"
      }
    },
    {
      "cell_type": "code",
      "source": [
        "from sklearn.tree import DecisionTreeClassifier\n",
        "from sklearn.model_selection import train_test_split\n",
        "import numpy as np\n",
        "np.random.seed(3)\n",
        "\n",
        "iris_features = ['sepal_length'  ,\n",
        "                  'sepal_width'  , \n",
        "                  'petal_length',\n",
        "                  'petal_width' ]\n",
        "\n",
        "X = data_iris[iris_features]\n",
        "y = data_iris.species\n",
        "\n",
        "train_X, test_X, train_y, test_y = train_test_split(X, y,test_size=0.3)\n",
        "#build decision tree model\n",
        "\n",
        "decision_tree_classifier_model = DecisionTreeClassifier(max_depth = 4)\n",
        "decision_tree_classifier_model.fit(train_X , train_y)\n",
        "decision_tree_predict = decision_tree_classifier_model.predict(test_X)"
      ],
      "metadata": {
        "id": "ze3mU5XFUP0E"
      },
      "execution_count": 49,
      "outputs": []
    },
    {
      "cell_type": "markdown",
      "source": [
        "**Different approaches for splitting decision tree**  \n",
        "**Gini impurity** :  \n",
        "is a measurement that shows the probability of an incorrect classification \n",
        "of a randomly chosen datapoint in our dataset, when it  was randomly classified according to the \n",
        "distribution of class labels from the dataset.  \n",
        "We can compute gini impurity of node `n` using this formula:  \n",
        "$I_{G}(n) = 1-\\sum_{i=1}^{J} (p_{i})^2$  \n",
        "  \n",
        "- J : number of all classes(in our dataset , `J` is 3).  \n",
        "- $p_{i}$ : probability of class `i` in node `n`.    \n",
        "  \n",
        "The lowest (and best) value for gini impurity is 0.It happens when all elements of the node\n",
        "belong to the same class.  \n",
        "decision tree will choose the split that minimizes the gini impurity.  \n",
        "  \n",
        "**entropy**:  \n",
        "is a measurment that shows how *mixed* the column is.  \n",
        "Consider a binary classification that target column can get values `yes` and `no`.\n",
        "if target column has equal amounts of `yes`s and `no`s , then entropy will be equal to `1`,\n",
        "which is the highest value for entropy.We can compute entropy using this formula:  \n",
        "$-\\sum_{i=1}^{c} p(x_{i}) log_{2}p(x_{i})$  \n",
        "  \n",
        "- c : number of classes(in our case , c is 3).  \n",
        "- $p_{i}$ : probability of class `i`.  \n",
        "  \n",
        "decision tree will choose the split that minimizes the entropy.  \n",
        "  \n",
        "**information gain**:  \n",
        "measures **reduction in entropy** by splitting dataset on values of column we are testing.  \n",
        "In other words , the higher the information gain is , the more we have reduced entropy.  \n",
        "We can compute information gain using this formula:  \n",
        "$IG(T,A) = Entropy(T) - \\sum_{v \\in A} \\frac{T_{v}}{T} . Entropy(T_{v})$  \n",
        "  \n",
        "-`T` : Target column  \n",
        "-`A` : the column we are testing  \n",
        "-`v` : each value in `A`.  \n",
        "  \n",
        "decision tree will choose the split that maximizes the information gain.    \n",
        "In this dot,we want to calculate the entropy of species column of our dataset,\n",
        "using `entropy()` function from `scipy` package.  "
      ],
      "metadata": {
        "id": "wf-Fs1NGVHOg"
      }
    },
    {
      "cell_type": "code",
      "source": [
        "from scipy.stats import entropy\n",
        "counts = data_iris.species.value_counts()\n",
        "print(counts)\n",
        "species_entropy = entropy(counts)\n",
        "print(\"species entropy is : {:.2f}\".format(species_entropy))"
      ],
      "metadata": {
        "colab": {
          "base_uri": "https://localhost:8080/"
        },
        "id": "mdXE5h95UwGZ",
        "outputId": "f336649d-1715-401b-f296-f479fb790816"
      },
      "execution_count": 50,
      "outputs": [
        {
          "output_type": "stream",
          "name": "stdout",
          "text": [
            "setosa        50\n",
            "versicolor    50\n",
            "virginica     50\n",
            "Name: species, dtype: int64\n",
            "species entropy is : 1.10\n"
          ]
        }
      ]
    },
    {
      "cell_type": "markdown",
      "source": [
        "**Random forest classifier**  \n",
        "Random forest is one of the most commonly used algorithms in data science.  \n",
        "Random forest is an **ensemble model**,which\n",
        "means more than one model is built in the process to make the prediction.  \n",
        "In other words , random forest is made up by many decision trees that can vary in depth.  \n",
        "It shows that this algorithm uses **different subsets of data**\n",
        "to built each decision tree , and **different subset of features** to split nodes.  \n",
        "This randomness improves the performance of the model output.  "
      ],
      "metadata": {
        "id": "eU2XeyONVQfd"
      }
    },
    {
      "cell_type": "code",
      "source": [
        "from sklearn.ensemble import RandomForestClassifier\n",
        "np.random.seed(3)\n",
        "#build random forest model\n",
        "\n",
        "randomForest_model = RandomForestClassifier(n_estimators = 100)\n",
        "\n",
        "randomForest_model.fit(train_X , train_y)\n",
        "randomForest_predict = randomForest_model.predict(test_X)"
      ],
      "metadata": {
        "id": "zfW9L0NdVc5r"
      },
      "execution_count": 51,
      "outputs": []
    },
    {
      "cell_type": "markdown",
      "source": [
        "**Decision tree vs random forest**  \n",
        "Decision tree is easy to implement and has high performance on classification problems.It is also \n",
        "faster that random forest to train.However , It is prone to **overfitting**.  \n",
        "Overfitting happens when our model is very flexible and perfectly matches training dataset , \n",
        "but does not match well in test dataset.  \n",
        "decision tree can have *high variance* , which means that small change in data can result in a large change in stucture of tree , and also on model predictions.An easy way to prevent overfitting is \n",
        "setting a limitation for `max_depth` of the tree.  \n",
        "However , random forest builds many decision trees and uses the average of all predictions to \n",
        "classify data , so it is unlikely that random forest overfits to the data.  "
      ],
      "metadata": {
        "id": "KEHMwv6VVwec"
      }
    },
    {
      "cell_type": "code",
      "source": [
        "from sklearn.metrics import accuracy_score\n",
        "print(\"decision tree accuracy: {:.2f}\".format(accuracy_score(test_y , decision_tree_predict)))\n",
        "print(\"random forest accuracy : {:.2f}\".format(accuracy_score(test_y , randomForest_predict)))"
      ],
      "metadata": {
        "colab": {
          "base_uri": "https://localhost:8080/"
        },
        "id": "MUue1fbAVzDh",
        "outputId": "652b4642-3d82-495b-ae72-0df82e49bfd4"
      },
      "execution_count": 52,
      "outputs": [
        {
          "output_type": "stream",
          "name": "stdout",
          "text": [
            "decision tree accuracy: 0.96\n",
            "random forest accuracy : 0.98\n"
          ]
        }
      ]
    },
    {
      "cell_type": "markdown",
      "source": [
        "**Visualizing random forest result with confusion matrix**  \n",
        "**confusion matrix** is used to measure the performance of a classification algorithm.  \n",
        "there are 4 possible output types for confusion matrix:  \n",
        "- `True Positivi(TP)` :  Model predicts that a record belongs to a specific class , and\n",
        "the prediction is true.  \n",
        "- `True Negative(TN)` : Model predicts that a record does not belong to a specific class ,\n",
        "and the prediction is true.  \n",
        "- `False Positive(FP)` :  Model predicts that a record belongs to a specific class ,\n",
        "but it actually is not.This type of error is called **Type 1 error**.  \n",
        "- `False Negative(FN)` : Model predicts that a record does not belong to a specific class,\n",
        "but it actually is.This type of error is called **Type 2 error**.  \n",
        "  \n",
        "In this dot , we will visualize confusion matrix of our random forest model.  "
      ],
      "metadata": {
        "id": "E_-BV_SmWBAh"
      }
    },
    {
      "cell_type": "code",
      "source": [
        "from sklearn.metrics import confusion_matrix\n",
        "\n",
        "ConfusionMatrix= confusion_matrix(test_y, randomForest_predict , labels=np.unique(y))\n",
        "#plot confusionMatrix\n",
        "cm = pd.DataFrame(ConfusionMatrix, index=np.unique(y), columns=np.unique(y))\n",
        "cm.index.name = 'Actual'\n",
        "cm.columns.name = 'Predicted'\n",
        "fig, ax = plt.subplots(figsize=(10 , 10))\n",
        "sns.heatmap(cm,annot = True, fmt='', ax=ax)\n",
        "plt.show()"
      ],
      "metadata": {
        "colab": {
          "base_uri": "https://localhost:8080/",
          "height": 606
        },
        "id": "bg_g-a6tWDvd",
        "outputId": "2ce95dc8-4fd2-407b-ece7-f10818feafe0"
      },
      "execution_count": 53,
      "outputs": [
        {
          "output_type": "display_data",
          "data": {
            "text/plain": [
              "<Figure size 720x720 with 2 Axes>"
            ],
            "image/png": "[encoded data removed]"
          },
          "metadata": {
            "needs_background": "light"
          }
        }
      ]
    },
    {
      "cell_type": "markdown",
      "source": [
        "**Feature importance**  \n",
        "For calculating feature importance score of each feature,\n",
        "we use *sum of the reductions in gini impurity* of all nodes that are split on the feature. "
      ],
      "metadata": {
        "id": "5SLgPw4AYXGz"
      }
    },
    {
      "cell_type": "code",
      "source": [
        "FI = pd.DataFrame({'Feature' : list(train_X.columns) , 'importance_score' : randomForest_model.feature_importances_}).sort_values('importance_score', ascending=False)\n",
        "\n",
        "#create bar plot\n",
        "plt.clf()\n",
        "sns.barplot(data = FI, x = 'Feature' , y = 'importance_score' , color = 'cyan')\n",
        "plt.title('Feature importance bar plot')\n",
        "plt.show()"
      ],
      "metadata": {
        "colab": {
          "base_uri": "https://localhost:8080/",
          "height": 296
        },
        "id": "5yopeTQNYhQu",
        "outputId": "d7744f79-f7d1-47ae-bda7-6998533513fd"
      },
      "execution_count": 54,
      "outputs": [
        {
          "output_type": "display_data",
          "data": {
            "text/plain": [
              "<Figure size 432x288 with 1 Axes>"
            ],
            "image/png": "[encoded data removed]"
          },
          "metadata": {
            "needs_background": "light"
          }
        }
      ]
    },
    {
      "cell_type": "markdown",
      "source": [
        "**Generate random forest model on selected features**  \n",
        "In this dot ,we drop the least important feature(`sepal_width`) from model,to check its effect on accuracy.  \n",
        "We see that the accuracy is not changed,so it has no effect on accuracy and we can drop it from model.  "
      ],
      "metadata": {
        "id": "8ZzRENvdY7Vj"
      }
    },
    {
      "cell_type": "code",
      "source": [
        "np.random.seed(3)\n",
        "#remove feature 'sepal_width' \n",
        "X2 = data_iris[['petal_length', 'petal_width' ,'sepal_length']]\n",
        "y2 = data_iris['species']\n",
        "train_X2 , test_X2 , train_y2 , test_y2 = train_test_split(X2 , y2 , test_size = 0.3)\n",
        "\n",
        "#build a new random forest model with selected features\n",
        "randomForest_model2 = RandomForestClassifier(n_estimators=100)\n",
        "randomForest_model2.fit(train_X2 , train_y2)\n",
        "randomForest2_predict = randomForest_model2.predict(test_X2)\n",
        "\n",
        "print(\"random forest2 accuracy : {:.2f}\".format(accuracy_score(test_y2 , randomForest2_predict)))"
      ],
      "metadata": {
        "colab": {
          "base_uri": "https://localhost:8080/"
        },
        "id": "QEkBDwsOY9Pj",
        "outputId": "0f03222d-08e0-441e-90c7-31ca4f5a3693"
      },
      "execution_count": 55,
      "outputs": [
        {
          "output_type": "stream",
          "name": "stdout",
          "text": [
            "random forest2 accuracy : 0.98\n"
          ]
        }
      ]
    }
  ]
}